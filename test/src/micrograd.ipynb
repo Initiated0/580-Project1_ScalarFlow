{
 "cells": [
  {
   "cell_type": "code",
   "execution_count": 1,
   "metadata": {},
   "outputs": [],
   "source": [
    "import math\n",
    "import numpy as np\n",
    "import matplotlib.pyplot as plt\n",
    "%matplotlib inline\n"
   ]
  },
  {
   "cell_type": "code",
   "execution_count": 2,
   "metadata": {},
   "outputs": [],
   "source": [
    "def f(x):\n",
    "    return 3*x**2 - 4*x + 5"
   ]
  },
  {
   "cell_type": "code",
   "execution_count": 3,
   "metadata": {},
   "outputs": [
    {
     "data": {
      "text/plain": [
       "20.0"
      ]
     },
     "execution_count": 3,
     "metadata": {},
     "output_type": "execute_result"
    }
   ],
   "source": [
    "f(3.0)"
   ]
  },
  {
   "cell_type": "code",
   "execution_count": 5,
   "metadata": {},
   "outputs": [
    {
     "data": {
      "text/plain": [
       "[<matplotlib.lines.Line2D at 0x10f07faf0>]"
      ]
     },
     "execution_count": 5,
     "metadata": {},
     "output_type": "execute_result"
    },
    {
     "data": {
      "image/png": "[encoded data removed]",
      "text/plain": [
       "<Figure size 640x480 with 1 Axes>"
      ]
     },
     "metadata": {},
     "output_type": "display_data"
    }
   ],
   "source": [
    "xs = np.arange(-5, 5, 0.25)\n",
    "ys = f(xs)\n",
    "plt.plot(xs, ys)"
   ]
  },
  {
   "cell_type": "code",
   "execution_count": 9,
   "metadata": {},
   "outputs": [
    {
     "data": {
      "text/plain": [
       "-22.00000039920269"
      ]
     },
     "execution_count": 9,
     "metadata": {},
     "output_type": "execute_result"
    }
   ],
   "source": [
    "h = 0.00000001\n",
    "x = -3.0\n",
    "(f(x+h) - f(x))/h"
   ]
  },
  {
   "cell_type": "code",
   "execution_count": 11,
   "metadata": {},
   "outputs": [
    {
     "name": "stdout",
     "output_type": "stream",
     "text": [
      "d1 4.0\n",
      "d2 3.99999997\n",
      "Slope:  -2.999999981767587\n"
     ]
    }
   ],
   "source": [
    "h = 0.00000001\n",
    "\n",
    "a = 2.0\n",
    "b = -3.0\n",
    "c = 10.0\n",
    "d1 = a*b + c\n",
    "print('d1', d1)\n",
    "\n",
    "a += h\n",
    "d2 = a*b + c\n",
    "print('d2', d2)\n",
    "\n",
    "print('Slope: ', (d2-d1)/h)\n"
   ]
  },
  {
   "cell_type": "code",
   "execution_count": 104,
   "metadata": {},
   "outputs": [],
   "source": [
    "class Value:\n",
    "    # _children is a set of all the values that created this value\n",
    "    def __init__(self, data, _children=(), _op='', label=''): \n",
    "        self.data = data\n",
    "        self.grad = 0.0\n",
    "        self._prev = set(_children)\n",
    "        self._op = _op\n",
    "        self.label = label\n",
    "    \n",
    "    def __repr__(self):\n",
    "        return f\"Value(data={self.data})\"\n",
    "    \n",
    "    def __add__(self, other):\n",
    "        return Value(self.data + other.data, (self, other), '+')\n",
    "    \n",
    "    def __mul__(self, other):\n",
    "        return Value(self.data * other.data, (self, other), '*')\n",
    "    \n",
    "    def __sub__(self, other):\n",
    "        return Value(self.data - other.data, (self, other), '-')\n",
    "    \n",
    "    def __div__(self, other):\n",
    "        return Value(self.data // other.data)\n",
    "    def tanh(self):\n",
    "        x = self.data\n",
    "        t = (math.exp(2*x) - 1) / (math.exp(2*x) + 1)\n",
    "        return Value(t, (self,), 'tanh')\n",
    "\n",
    "\n",
    "a = Value(2.0, label='a')\n",
    "b = Value(-3.0, label='b')\n",
    "c = Value(10.0, label='c')\n",
    "\n",
    "e = a * b; e.label = 'e' \n",
    "\n",
    "d = e + c; d.label = 'd'\n",
    "\n",
    "f = Value(-2.0, label='f')\n",
    "L = d*f; L.label = 'L'\n",
    "\n",
    "\n"
   ]
  },
  {
   "cell_type": "code",
   "execution_count": 78,
   "metadata": {},
   "outputs": [
    {
     "data": {
      "text/plain": [
       "{Value(data=-6.0), Value(data=10.0)}"
      ]
     },
     "execution_count": 78,
     "metadata": {},
     "output_type": "execute_result"
    }
   ],
   "source": [
    "d._prev"
   ]
  },
  {
   "cell_type": "code",
   "execution_count": 79,
   "metadata": {},
   "outputs": [
    {
     "data": {
      "text/plain": [
       "'+'"
      ]
     },
     "execution_count": 79,
     "metadata": {},
     "output_type": "execute_result"
    }
   ],
   "source": [
    "d._op"
   ]
  },
  {
   "cell_type": "code",
   "execution_count": 80,
   "metadata": {},
   "outputs": [],
   "source": [
    "from graphviz import Digraph\n",
    "\n",
    "def trace(root):\n",
    "    nodes, edges = set(), set()\n",
    "    def build(v):\n",
    "        if v not in nodes:\n",
    "            nodes.add(v)\n",
    "            for child in v._prev:\n",
    "                edges.add((child, v))\n",
    "                build(child)\n",
    "    build(root)\n",
    "    return nodes, edges\n",
    "\n",
    "def draw_dot(root):\n",
    "    dot = Digraph(format='svg', graph_attr={'rankdir': 'LR'}) # LR = Left to Right\n",
    "    nodes, edges = trace(root)\n",
    "\n",
    "    for n in nodes:\n",
    "        uid = str(id(n))\n",
    "\n",
    "        dot.node(name=uid, label= \"{%s | data: %.4f | grad: %4f }\" % (n.label, n.data, n.grad), shape='record')\n",
    "        if n._op:\n",
    "            dot.node(name = uid + n._op, label= n._op)\n",
    "            dot.edge(uid + n._op, uid)\n",
    "    for n1, n2 in edges:\n",
    "        dot.edge(str(id(n1)), str(id(n2)) + n2._op)\n",
    "    return dot"
   ]
  },
  {
   "cell_type": "code",
   "execution_count": 85,
   "metadata": {},
   "outputs": [
    {
     "data": {
      "image/svg+xml": [
       "<?xml version=\"1.0\" encoding=\"UTF-8\" standalone=\"no\"?>\n",
       "<!DOCTYPE svg PUBLIC \"-//W3C//DTD SVG 1.1//EN\"\n",
       " \"http://www.w3.org/Graphics/SVG/1.1/DTD/svg11.dtd\">\n",
       "<!-- Generated by graphviz version 12.1.1 (20240910.0053)\n",
       " -->\n",
       "<!-- Pages: 1 -->\n",
       "<svg width=\"1226pt\" height=\"154pt\"\n",
       " viewBox=\"0.00 0.00 1226.00 154.00\" xmlns=\"http://www.w3.org/2000/svg\" xmlns:xlink=\"http://www.w3.org/1999/xlink\">\n",
       "<g id=\"graph0\" class=\"graph\" transform=\"scale(1 1) rotate(0) translate(4 150)\">\n",
       "<polygon fill=\"white\" stroke=\"none\" points=\"-4,4 -4,-150 1222,-150 1222,4 -4,4\"/>\n",
       "<!-- 4799452304 -->\n",
       "<g id=\"node1\" class=\"node\">\n",
       "<title>4799452304</title>\n",
       "<polygon fill=\"none\" stroke=\"black\" points=\"675.38,-54.5 675.38,-90.5 880.12,-90.5 880.12,-54.5 675.38,-54.5\"/>\n",
       "<text text-anchor=\"middle\" x=\"686.75\" y=\"-67.7\" font-family=\"Times,serif\" font-size=\"14.00\">d</text>\n",
       "<polyline fill=\"none\" stroke=\"black\" points=\"698.12,-55 698.12,-90.5\"/>\n",
       "<text text-anchor=\"middle\" x=\"739.88\" y=\"-67.7\" font-family=\"Times,serif\" font-size=\"14.00\">data: 3.7176</text>\n",
       "<polyline fill=\"none\" stroke=\"black\" points=\"781.62,-55 781.62,-90.5\"/>\n",
       "<text text-anchor=\"middle\" x=\"830.88\" y=\"-67.7\" font-family=\"Times,serif\" font-size=\"14.00\">grad: 0.000000</text>\n",
       "</g>\n",
       "<!-- 4799452064* -->\n",
       "<g id=\"node10\" class=\"node\">\n",
       "<title>4799452064*</title>\n",
       "<ellipse fill=\"none\" stroke=\"black\" cx=\"944.25\" cy=\"-99.5\" rx=\"27\" ry=\"18\"/>\n",
       "<text text-anchor=\"middle\" x=\"944.25\" y=\"-94.45\" font-family=\"Times,serif\" font-size=\"14.00\">*</text>\n",
       "</g>\n",
       "<!-- 4799452304&#45;&gt;4799452064* -->\n",
       "<g id=\"edge6\" class=\"edge\">\n",
       "<title>4799452304&#45;&gt;4799452064*</title>\n",
       "<path fill=\"none\" stroke=\"black\" d=\"M880.59,-89.22C889.67,-90.71 898.41,-92.14 906.33,-93.44\"/>\n",
       "<polygon fill=\"black\" stroke=\"black\" points=\"905.74,-96.89 916.18,-95.06 906.88,-89.98 905.74,-96.89\"/>\n",
       "</g>\n",
       "<!-- 4799452304+ -->\n",
       "<g id=\"node2\" class=\"node\">\n",
       "<title>4799452304+</title>\n",
       "<ellipse fill=\"none\" stroke=\"black\" cx=\"611.25\" cy=\"-72.5\" rx=\"27\" ry=\"18\"/>\n",
       "<text text-anchor=\"middle\" x=\"611.25\" y=\"-67.45\" font-family=\"Times,serif\" font-size=\"14.00\">+</text>\n",
       "</g>\n",
       "<!-- 4799452304+&#45;&gt;4799452304 -->\n",
       "<g id=\"edge1\" class=\"edge\">\n",
       "<title>4799452304+&#45;&gt;4799452304</title>\n",
       "<path fill=\"none\" stroke=\"black\" d=\"M638.68,-72.5C646.04,-72.5 654.53,-72.5 663.61,-72.5\"/>\n",
       "<polygon fill=\"black\" stroke=\"black\" points=\"663.42,-76 673.42,-72.5 663.42,-69 663.42,-76\"/>\n",
       "</g>\n",
       "<!-- 4799451344 -->\n",
       "<g id=\"node3\" class=\"node\">\n",
       "<title>4799451344</title>\n",
       "<polygon fill=\"none\" stroke=\"black\" points=\"674.25,-109.5 674.25,-145.5 881.25,-145.5 881.25,-109.5 674.25,-109.5\"/>\n",
       "<text text-anchor=\"middle\" x=\"684.5\" y=\"-122.7\" font-family=\"Times,serif\" font-size=\"14.00\">f</text>\n",
       "<polyline fill=\"none\" stroke=\"black\" points=\"694.75,-110 694.75,-145.5\"/>\n",
       "<text text-anchor=\"middle\" x=\"738.75\" y=\"-122.7\" font-family=\"Times,serif\" font-size=\"14.00\">data: &#45;1.9600</text>\n",
       "<polyline fill=\"none\" stroke=\"black\" points=\"782.75,-110 782.75,-145.5\"/>\n",
       "<text text-anchor=\"middle\" x=\"832\" y=\"-122.7\" font-family=\"Times,serif\" font-size=\"14.00\">grad: 4.000000</text>\n",
       "</g>\n",
       "<!-- 4799451344&#45;&gt;4799452064* -->\n",
       "<g id=\"edge8\" class=\"edge\">\n",
       "<title>4799451344&#45;&gt;4799452064*</title>\n",
       "<path fill=\"none\" stroke=\"black\" d=\"M881.53,-110.01C890.41,-108.49 898.96,-107.04 906.71,-105.72\"/>\n",
       "<polygon fill=\"black\" stroke=\"black\" points=\"907.04,-109.21 916.31,-104.09 905.86,-102.31 907.04,-109.21\"/>\n",
       "</g>\n",
       "<!-- 4799101680 -->\n",
       "<g id=\"node4\" class=\"node\">\n",
       "<title>4799101680</title>\n",
       "<polygon fill=\"none\" stroke=\"black\" points=\"339.75,-82.5 339.75,-118.5 548.25,-118.5 548.25,-82.5 339.75,-82.5\"/>\n",
       "<text text-anchor=\"middle\" x=\"350.75\" y=\"-95.7\" font-family=\"Times,serif\" font-size=\"14.00\">c</text>\n",
       "<polyline fill=\"none\" stroke=\"black\" points=\"361.75,-83 361.75,-118.5\"/>\n",
       "<text text-anchor=\"middle\" x=\"403.5\" y=\"-95.7\" font-family=\"Times,serif\" font-size=\"14.00\">data: 9.9800</text>\n",
       "<polyline fill=\"none\" stroke=\"black\" points=\"445.25,-83 445.25,-118.5\"/>\n",
       "<text text-anchor=\"middle\" x=\"496.75\" y=\"-95.7\" font-family=\"Times,serif\" font-size=\"14.00\">grad: &#45;2.000000</text>\n",
       "</g>\n",
       "<!-- 4799101680&#45;&gt;4799452304+ -->\n",
       "<g id=\"edge5\" class=\"edge\">\n",
       "<title>4799101680&#45;&gt;4799452304+</title>\n",
       "<path fill=\"none\" stroke=\"black\" d=\"M548.72,-82.93C557.4,-81.46 565.75,-80.04 573.34,-78.75\"/>\n",
       "<polygon fill=\"black\" stroke=\"black\" points=\"573.83,-82.22 583.11,-77.1 572.66,-75.32 573.83,-82.22\"/>\n",
       "</g>\n",
       "<!-- 4550455056 -->\n",
       "<g id=\"node5\" class=\"node\">\n",
       "<title>4550455056</title>\n",
       "<polygon fill=\"none\" stroke=\"black\" points=\"4.88,-55.5 4.88,-91.5 208.88,-91.5 208.88,-55.5 4.88,-55.5\"/>\n",
       "<text text-anchor=\"middle\" x=\"15.88\" y=\"-68.7\" font-family=\"Times,serif\" font-size=\"14.00\">a</text>\n",
       "<polyline fill=\"none\" stroke=\"black\" points=\"26.88,-56 26.88,-91.5\"/>\n",
       "<text text-anchor=\"middle\" x=\"68.62\" y=\"-68.7\" font-family=\"Times,serif\" font-size=\"14.00\">data: 2.0600</text>\n",
       "<polyline fill=\"none\" stroke=\"black\" points=\"110.38,-56 110.38,-91.5\"/>\n",
       "<text text-anchor=\"middle\" x=\"159.62\" y=\"-68.7\" font-family=\"Times,serif\" font-size=\"14.00\">grad: 6.000000</text>\n",
       "</g>\n",
       "<!-- 4799454608* -->\n",
       "<g id=\"node8\" class=\"node\">\n",
       "<title>4799454608*</title>\n",
       "<ellipse fill=\"none\" stroke=\"black\" cx=\"276.75\" cy=\"-45.5\" rx=\"27\" ry=\"18\"/>\n",
       "<text text-anchor=\"middle\" x=\"276.75\" y=\"-40.45\" font-family=\"Times,serif\" font-size=\"14.00\">*</text>\n",
       "</g>\n",
       "<!-- 4550455056&#45;&gt;4799454608* -->\n",
       "<g id=\"edge9\" class=\"edge\">\n",
       "<title>4550455056&#45;&gt;4799454608*</title>\n",
       "<path fill=\"none\" stroke=\"black\" d=\"M208.92,-56.65C219.54,-54.88 229.78,-53.17 238.92,-51.64\"/>\n",
       "<polygon fill=\"black\" stroke=\"black\" points=\"239.46,-55.1 248.75,-50 238.31,-48.2 239.46,-55.1\"/>\n",
       "</g>\n",
       "<!-- 4799100288 -->\n",
       "<g id=\"node6\" class=\"node\">\n",
       "<title>4799100288</title>\n",
       "<polygon fill=\"none\" stroke=\"black\" points=\"0,-0.5 0,-36.5 213.75,-36.5 213.75,-0.5 0,-0.5\"/>\n",
       "<text text-anchor=\"middle\" x=\"11.38\" y=\"-13.7\" font-family=\"Times,serif\" font-size=\"14.00\">b</text>\n",
       "<polyline fill=\"none\" stroke=\"black\" points=\"22.75,-1 22.75,-36.5\"/>\n",
       "<text text-anchor=\"middle\" x=\"66.75\" y=\"-13.7\" font-family=\"Times,serif\" font-size=\"14.00\">data: &#45;3.0400</text>\n",
       "<polyline fill=\"none\" stroke=\"black\" points=\"110.75,-1 110.75,-36.5\"/>\n",
       "<text text-anchor=\"middle\" x=\"162.25\" y=\"-13.7\" font-family=\"Times,serif\" font-size=\"14.00\">grad: &#45;4.000000</text>\n",
       "</g>\n",
       "<!-- 4799100288&#45;&gt;4799454608* -->\n",
       "<g id=\"edge7\" class=\"edge\">\n",
       "<title>4799100288&#45;&gt;4799454608*</title>\n",
       "<path fill=\"none\" stroke=\"black\" d=\"M214.19,-35.6C222.9,-37 231.27,-38.35 238.87,-39.57\"/>\n",
       "<polygon fill=\"black\" stroke=\"black\" points=\"238.21,-43.01 248.64,-41.14 239.32,-36.1 238.21,-43.01\"/>\n",
       "</g>\n",
       "<!-- 4799454608 -->\n",
       "<g id=\"node7\" class=\"node\">\n",
       "<title>4799454608</title>\n",
       "<polygon fill=\"none\" stroke=\"black\" points=\"339.75,-27.5 339.75,-63.5 548.25,-63.5 548.25,-27.5 339.75,-27.5\"/>\n",
       "<text text-anchor=\"middle\" x=\"350.75\" y=\"-40.7\" font-family=\"Times,serif\" font-size=\"14.00\">e</text>\n",
       "<polyline fill=\"none\" stroke=\"black\" points=\"361.75,-28 361.75,-63.5\"/>\n",
       "<text text-anchor=\"middle\" x=\"405.75\" y=\"-40.7\" font-family=\"Times,serif\" font-size=\"14.00\">data: &#45;6.2624</text>\n",
       "<polyline fill=\"none\" stroke=\"black\" points=\"449.75,-28 449.75,-63.5\"/>\n",
       "<text text-anchor=\"middle\" x=\"499\" y=\"-40.7\" font-family=\"Times,serif\" font-size=\"14.00\">grad: 0.000000</text>\n",
       "</g>\n",
       "<!-- 4799454608&#45;&gt;4799452304+ -->\n",
       "<g id=\"edge4\" class=\"edge\">\n",
       "<title>4799454608&#45;&gt;4799452304+</title>\n",
       "<path fill=\"none\" stroke=\"black\" d=\"M548.72,-62.45C557.4,-63.86 565.75,-65.23 573.34,-66.47\"/>\n",
       "<polygon fill=\"black\" stroke=\"black\" points=\"572.67,-69.91 583.11,-68.06 573.8,-63 572.67,-69.91\"/>\n",
       "</g>\n",
       "<!-- 4799454608*&#45;&gt;4799454608 -->\n",
       "<g id=\"edge2\" class=\"edge\">\n",
       "<title>4799454608*&#45;&gt;4799454608</title>\n",
       "<path fill=\"none\" stroke=\"black\" d=\"M303.93,-45.5C311.04,-45.5 319.21,-45.5 327.95,-45.5\"/>\n",
       "<polygon fill=\"black\" stroke=\"black\" points=\"327.79,-49 337.79,-45.5 327.79,-42 327.79,-49\"/>\n",
       "</g>\n",
       "<!-- 4799452064 -->\n",
       "<g id=\"node9\" class=\"node\">\n",
       "<title>4799452064</title>\n",
       "<polygon fill=\"none\" stroke=\"black\" points=\"1007.25,-81.5 1007.25,-117.5 1218,-117.5 1218,-81.5 1007.25,-81.5\"/>\n",
       "<text text-anchor=\"middle\" x=\"1019.38\" y=\"-94.7\" font-family=\"Times,serif\" font-size=\"14.00\">L</text>\n",
       "<polyline fill=\"none\" stroke=\"black\" points=\"1031.5,-82 1031.5,-117.5\"/>\n",
       "<text text-anchor=\"middle\" x=\"1075.5\" y=\"-94.7\" font-family=\"Times,serif\" font-size=\"14.00\">data: &#45;7.2865</text>\n",
       "<polyline fill=\"none\" stroke=\"black\" points=\"1119.5,-82 1119.5,-117.5\"/>\n",
       "<text text-anchor=\"middle\" x=\"1168.75\" y=\"-94.7\" font-family=\"Times,serif\" font-size=\"14.00\">grad: 0.000000</text>\n",
       "</g>\n",
       "<!-- 4799452064*&#45;&gt;4799452064 -->\n",
       "<g id=\"edge3\" class=\"edge\">\n",
       "<title>4799452064*&#45;&gt;4799452064</title>\n",
       "<path fill=\"none\" stroke=\"black\" d=\"M971.61,-99.5C978.7,-99.5 986.84,-99.5 995.55,-99.5\"/>\n",
       "<polygon fill=\"black\" stroke=\"black\" points=\"995.35,-103 1005.35,-99.5 995.35,-96 995.35,-103\"/>\n",
       "</g>\n",
       "</g>\n",
       "</svg>\n"
      ],
      "text/plain": [
       "<graphviz.graphs.Digraph at 0x11e11d4f0>"
      ]
     },
     "execution_count": 85,
     "metadata": {},
     "output_type": "execute_result"
    }
   ],
   "source": [
    "draw_dot(L)"
   ]
  },
  {
   "cell_type": "markdown",
   "metadata": {},
   "source": [
    "# ***Inline gradient checker***"
   ]
  },
  {
   "cell_type": "code",
   "execution_count": 82,
   "metadata": {},
   "outputs": [
    {
     "data": {
      "text/plain": [
       "-3.9999999999995595"
      ]
     },
     "execution_count": 82,
     "metadata": {},
     "output_type": "execute_result"
    }
   ],
   "source": [
    "def foo():\n",
    "    h = 0.001\n",
    "\n",
    "    a = Value(2.0, label='a')\n",
    "    b = Value(-3.0, label='b')\n",
    "    c = Value(10.0, label='c')\n",
    "    e = a*b; e.label = 'e' \n",
    "    d = e + c; d.label = 'd'\n",
    "    f = Value(-2.0, label='f')\n",
    "    L = d*f; L.label = 'L'\n",
    "    L1 = L.data\n",
    "\n",
    "    a = Value(2.0, label='a')\n",
    "    b = Value(-3.0, label='b')\n",
    "    b.data += h\n",
    "    c = Value(10.0, label='c')\n",
    "    e = a*b; e.label = 'e' \n",
    "    d = e + c; d.label = 'd'\n",
    "    f = Value(-2.0, label='f')\n",
    "    L = d*f ; L.label = 'L'\n",
    "    L2 = L.data\n",
    "\n",
    "    return ((L2 - L1) / h)\n",
    "\n",
    "foo()\n"
   ]
  },
  {
   "cell_type": "code",
   "execution_count": 83,
   "metadata": {},
   "outputs": [],
   "source": [
    "L.grad = 1.0; d.grad = -2.0; f.grad = 4.0\n",
    "\n",
    "c.grad = d.grad * 1.0; e.grad = d.grad * 1.0\n",
    "\n",
    "a.grad = e.grad * b.data; b.grad = e.grad * a.data"
   ]
  },
  {
   "cell_type": "code",
   "execution_count": 102,
   "metadata": {},
   "outputs": [
    {
     "name": "stdout",
     "output_type": "stream",
     "text": [
      "2.326527999999995\n"
     ]
    }
   ],
   "source": [
    "\n",
    "a.data += 0.01 * a.grad\n",
    "b.data += 0.01 * b.grad\n",
    "c.data += 0.01 * c.grad\n",
    "f.data += 0.01 * f.grad\n",
    "\n",
    "e = a * b; e.label = 'e'\n",
    "d =  c + e ; d.label = 'd'\n",
    "L = d * f; L.label = 'L'\n",
    "\n",
    "print(L.data)"
   ]
  },
  {
   "cell_type": "code",
   "execution_count": 107,
   "metadata": {},
   "outputs": [],
   "source": [
    "x1 = Value(2.0, label='x1')\n",
    "x2 = Value(0.0, label='x2')\n",
    "\n",
    "w1 = Value(-3.0, label='w1')\n",
    "w2 = Value(1.0, label='w2')\n",
    "\n",
    "b = Value(6.8813735870, label='b')\n",
    "\n",
    "x1w1 = x1 * w1; x1w1.label = 'x1.w1'\n",
    "x2w2 = x2 * w2; x2w2.label = 'x2.w2'\n",
    "\n",
    "x1w1x2w2 = x1w1 + x2w2; x1w1x2w2.label = 'x1.w1 + x2.w2'\n",
    "n = x1w1x2w2 + b; n.label = 'n'\n",
    "\n",
    "o = n.tanh(); o.label = 'o'\n",
    "\n",
    "\n"
   ]
  },
  {
   "cell_type": "code",
   "execution_count": 112,
   "metadata": {},
   "outputs": [
    {
     "data": {
      "image/svg+xml": [
       "<?xml version=\"1.0\" encoding=\"UTF-8\" standalone=\"no\"?>\n",
       "<!DOCTYPE svg PUBLIC \"-//W3C//DTD SVG 1.1//EN\"\n",
       " \"http://www.w3.org/Graphics/SVG/1.1/DTD/svg11.dtd\">\n",
       "<!-- Generated by graphviz version 12.1.1 (20240910.0053)\n",
       " -->\n",
       "<!-- Pages: 1 -->\n",
       "<svg width=\"1663pt\" height=\"210pt\"\n",
       " viewBox=\"0.00 0.00 1662.50 210.00\" xmlns=\"http://www.w3.org/2000/svg\" xmlns:xlink=\"http://www.w3.org/1999/xlink\">\n",
       "<g id=\"graph0\" class=\"graph\" transform=\"scale(1 1) rotate(0) translate(4 206)\">\n",
       "<polygon fill=\"white\" stroke=\"none\" points=\"-4,4 -4,-206 1658.5,-206 1658.5,4 -4,4\"/>\n",
       "<!-- 4799441408 -->\n",
       "<g id=\"node1\" class=\"node\">\n",
       "<title>4799441408</title>\n",
       "<polygon fill=\"none\" stroke=\"black\" points=\"347.25,-55.5 347.25,-91.5 579,-91.5 579,-55.5 347.25,-55.5\"/>\n",
       "<text text-anchor=\"middle\" x=\"372.12\" y=\"-68.7\" font-family=\"Times,serif\" font-size=\"14.00\">x2.w2</text>\n",
       "<polyline fill=\"none\" stroke=\"black\" points=\"397,-56 397,-91.5\"/>\n",
       "<text text-anchor=\"middle\" x=\"438.75\" y=\"-68.7\" font-family=\"Times,serif\" font-size=\"14.00\">data: 0.0000</text>\n",
       "<polyline fill=\"none\" stroke=\"black\" points=\"480.5,-56 480.5,-91.5\"/>\n",
       "<text text-anchor=\"middle\" x=\"529.75\" y=\"-68.7\" font-family=\"Times,serif\" font-size=\"14.00\">grad: 0.000000</text>\n",
       "</g>\n",
       "<!-- 4799439296+ -->\n",
       "<g id=\"node15\" class=\"node\">\n",
       "<title>4799439296+</title>\n",
       "<ellipse fill=\"none\" stroke=\"black\" cx=\"644.25\" cy=\"-100.5\" rx=\"27\" ry=\"18\"/>\n",
       "<text text-anchor=\"middle\" x=\"644.25\" y=\"-95.45\" font-family=\"Times,serif\" font-size=\"14.00\">+</text>\n",
       "</g>\n",
       "<!-- 4799441408&#45;&gt;4799439296+ -->\n",
       "<g id=\"edge13\" class=\"edge\">\n",
       "<title>4799441408&#45;&gt;4799439296+</title>\n",
       "<path fill=\"none\" stroke=\"black\" d=\"M579.34,-90.87C588.92,-92.31 598.08,-93.69 606.31,-94.93\"/>\n",
       "<polygon fill=\"black\" stroke=\"black\" points=\"605.75,-98.39 616.16,-96.42 606.8,-91.47 605.75,-98.39\"/>\n",
       "</g>\n",
       "<!-- 4799441408* -->\n",
       "<g id=\"node2\" class=\"node\">\n",
       "<title>4799441408*</title>\n",
       "<ellipse fill=\"none\" stroke=\"black\" cx=\"282\" cy=\"-73.5\" rx=\"27\" ry=\"18\"/>\n",
       "<text text-anchor=\"middle\" x=\"282\" y=\"-68.45\" font-family=\"Times,serif\" font-size=\"14.00\">*</text>\n",
       "</g>\n",
       "<!-- 4799441408*&#45;&gt;4799441408 -->\n",
       "<g id=\"edge1\" class=\"edge\">\n",
       "<title>4799441408*&#45;&gt;4799441408</title>\n",
       "<path fill=\"none\" stroke=\"black\" d=\"M309.43,-73.5C317.05,-73.5 325.92,-73.5 335.47,-73.5\"/>\n",
       "<polygon fill=\"black\" stroke=\"black\" points=\"335.45,-77 345.45,-73.5 335.45,-70 335.45,-77\"/>\n",
       "</g>\n",
       "<!-- 4798473072 -->\n",
       "<g id=\"node3\" class=\"node\">\n",
       "<title>4798473072</title>\n",
       "<polygon fill=\"none\" stroke=\"black\" points=\"747.75,-137.5 747.75,-173.5 952.5,-173.5 952.5,-137.5 747.75,-137.5\"/>\n",
       "<text text-anchor=\"middle\" x=\"759.12\" y=\"-150.7\" font-family=\"Times,serif\" font-size=\"14.00\">b</text>\n",
       "<polyline fill=\"none\" stroke=\"black\" points=\"770.5,-138 770.5,-173.5\"/>\n",
       "<text text-anchor=\"middle\" x=\"812.25\" y=\"-150.7\" font-family=\"Times,serif\" font-size=\"14.00\">data: 6.8814</text>\n",
       "<polyline fill=\"none\" stroke=\"black\" points=\"854,-138 854,-173.5\"/>\n",
       "<text text-anchor=\"middle\" x=\"903.25\" y=\"-150.7\" font-family=\"Times,serif\" font-size=\"14.00\">grad: 0.000000</text>\n",
       "</g>\n",
       "<!-- 4799441648+ -->\n",
       "<g id=\"node6\" class=\"node\">\n",
       "<title>4799441648+</title>\n",
       "<ellipse fill=\"none\" stroke=\"black\" cx=\"1056\" cy=\"-127.5\" rx=\"27\" ry=\"18\"/>\n",
       "<text text-anchor=\"middle\" x=\"1056\" y=\"-122.45\" font-family=\"Times,serif\" font-size=\"14.00\">+</text>\n",
       "</g>\n",
       "<!-- 4798473072&#45;&gt;4799441648+ -->\n",
       "<g id=\"edge10\" class=\"edge\">\n",
       "<title>4798473072&#45;&gt;4799441648+</title>\n",
       "<path fill=\"none\" stroke=\"black\" d=\"M952.76,-141.54C976,-138.35 999.26,-135.16 1017.71,-132.62\"/>\n",
       "<polygon fill=\"black\" stroke=\"black\" points=\"1018.16,-136.09 1027.59,-131.26 1017.2,-129.16 1018.16,-136.09\"/>\n",
       "</g>\n",
       "<!-- 4799184032 -->\n",
       "<g id=\"node4\" class=\"node\">\n",
       "<title>4799184032</title>\n",
       "<polygon fill=\"none\" stroke=\"black\" points=\"3.75,-55.5 3.75,-91.5 215.25,-91.5 215.25,-55.5 3.75,-55.5\"/>\n",
       "<text text-anchor=\"middle\" x=\"18.5\" y=\"-68.7\" font-family=\"Times,serif\" font-size=\"14.00\">x2</text>\n",
       "<polyline fill=\"none\" stroke=\"black\" points=\"33.25,-56 33.25,-91.5\"/>\n",
       "<text text-anchor=\"middle\" x=\"75\" y=\"-68.7\" font-family=\"Times,serif\" font-size=\"14.00\">data: 0.0000</text>\n",
       "<polyline fill=\"none\" stroke=\"black\" points=\"116.75,-56 116.75,-91.5\"/>\n",
       "<text text-anchor=\"middle\" x=\"166\" y=\"-68.7\" font-family=\"Times,serif\" font-size=\"14.00\">grad: 0.000000</text>\n",
       "</g>\n",
       "<!-- 4799184032&#45;&gt;4799441408* -->\n",
       "<g id=\"edge6\" class=\"edge\">\n",
       "<title>4799184032&#45;&gt;4799441408*</title>\n",
       "<path fill=\"none\" stroke=\"black\" d=\"M215.57,-73.5C225.35,-73.5 234.76,-73.5 243.25,-73.5\"/>\n",
       "<polygon fill=\"black\" stroke=\"black\" points=\"243.07,-77 253.07,-73.5 243.07,-70 243.07,-77\"/>\n",
       "</g>\n",
       "<!-- 4799441648 -->\n",
       "<g id=\"node5\" class=\"node\">\n",
       "<title>4799441648</title>\n",
       "<polygon fill=\"none\" stroke=\"black\" points=\"1119,-109.5 1119,-145.5 1323.75,-145.5 1323.75,-109.5 1119,-109.5\"/>\n",
       "<text text-anchor=\"middle\" x=\"1130.38\" y=\"-122.7\" font-family=\"Times,serif\" font-size=\"14.00\">n</text>\n",
       "<polyline fill=\"none\" stroke=\"black\" points=\"1141.75,-110 1141.75,-145.5\"/>\n",
       "<text text-anchor=\"middle\" x=\"1183.5\" y=\"-122.7\" font-family=\"Times,serif\" font-size=\"14.00\">data: 0.8814</text>\n",
       "<polyline fill=\"none\" stroke=\"black\" points=\"1225.25,-110 1225.25,-145.5\"/>\n",
       "<text text-anchor=\"middle\" x=\"1274.5\" y=\"-122.7\" font-family=\"Times,serif\" font-size=\"14.00\">grad: 0.500000</text>\n",
       "</g>\n",
       "<!-- 4799441264tanh -->\n",
       "<g id=\"node11\" class=\"node\">\n",
       "<title>4799441264tanh</title>\n",
       "<ellipse fill=\"none\" stroke=\"black\" cx=\"1386.75\" cy=\"-127.5\" rx=\"27\" ry=\"18\"/>\n",
       "<text text-anchor=\"middle\" x=\"1386.75\" y=\"-122.45\" font-family=\"Times,serif\" font-size=\"14.00\">tanh</text>\n",
       "</g>\n",
       "<!-- 4799441648&#45;&gt;4799441264tanh -->\n",
       "<g id=\"edge14\" class=\"edge\">\n",
       "<title>4799441648&#45;&gt;4799441264tanh</title>\n",
       "<path fill=\"none\" stroke=\"black\" d=\"M1323.98,-127.5C1332.4,-127.5 1340.52,-127.5 1347.94,-127.5\"/>\n",
       "<polygon fill=\"black\" stroke=\"black\" points=\"1347.84,-131 1357.84,-127.5 1347.84,-124 1347.84,-131\"/>\n",
       "</g>\n",
       "<!-- 4799441648+&#45;&gt;4799441648 -->\n",
       "<g id=\"edge2\" class=\"edge\">\n",
       "<title>4799441648+&#45;&gt;4799441648</title>\n",
       "<path fill=\"none\" stroke=\"black\" d=\"M1083.25,-127.5C1090.35,-127.5 1098.51,-127.5 1107.24,-127.5\"/>\n",
       "<polygon fill=\"black\" stroke=\"black\" points=\"1107.05,-131 1117.05,-127.5 1107.05,-124 1107.05,-131\"/>\n",
       "</g>\n",
       "<!-- 4798475088 -->\n",
       "<g id=\"node7\" class=\"node\">\n",
       "<title>4798475088</title>\n",
       "<polygon fill=\"none\" stroke=\"black\" points=\"2.25,-0.5 2.25,-36.5 216.75,-36.5 216.75,-0.5 2.25,-0.5\"/>\n",
       "<text text-anchor=\"middle\" x=\"18.5\" y=\"-13.7\" font-family=\"Times,serif\" font-size=\"14.00\">w2</text>\n",
       "<polyline fill=\"none\" stroke=\"black\" points=\"34.75,-1 34.75,-36.5\"/>\n",
       "<text text-anchor=\"middle\" x=\"76.5\" y=\"-13.7\" font-family=\"Times,serif\" font-size=\"14.00\">data: 1.0000</text>\n",
       "<polyline fill=\"none\" stroke=\"black\" points=\"118.25,-1 118.25,-36.5\"/>\n",
       "<text text-anchor=\"middle\" x=\"167.5\" y=\"-13.7\" font-family=\"Times,serif\" font-size=\"14.00\">grad: 0.000000</text>\n",
       "</g>\n",
       "<!-- 4798475088&#45;&gt;4799441408* -->\n",
       "<g id=\"edge11\" class=\"edge\">\n",
       "<title>4798475088&#45;&gt;4799441408*</title>\n",
       "<path fill=\"none\" stroke=\"black\" d=\"M188.29,-36.98C198.69,-39.92 209.16,-43.11 219,-46.5 229,-49.94 239.64,-54.31 249.23,-58.52\"/>\n",
       "<polygon fill=\"black\" stroke=\"black\" points=\"247.59,-61.62 258.15,-62.53 250.46,-55.23 247.59,-61.62\"/>\n",
       "</g>\n",
       "<!-- 4798474080 -->\n",
       "<g id=\"node8\" class=\"node\">\n",
       "<title>4798474080</title>\n",
       "<polygon fill=\"none\" stroke=\"black\" points=\"345,-110.5 345,-146.5 581.25,-146.5 581.25,-110.5 345,-110.5\"/>\n",
       "<text text-anchor=\"middle\" x=\"369.88\" y=\"-123.7\" font-family=\"Times,serif\" font-size=\"14.00\">x1.w1</text>\n",
       "<polyline fill=\"none\" stroke=\"black\" points=\"394.75,-111 394.75,-146.5\"/>\n",
       "<text text-anchor=\"middle\" x=\"438.75\" y=\"-123.7\" font-family=\"Times,serif\" font-size=\"14.00\">data: &#45;6.0000</text>\n",
       "<polyline fill=\"none\" stroke=\"black\" points=\"482.75,-111 482.75,-146.5\"/>\n",
       "<text text-anchor=\"middle\" x=\"532\" y=\"-123.7\" font-family=\"Times,serif\" font-size=\"14.00\">grad: 0.000000</text>\n",
       "</g>\n",
       "<!-- 4798474080&#45;&gt;4799439296+ -->\n",
       "<g id=\"edge9\" class=\"edge\">\n",
       "<title>4798474080&#45;&gt;4799439296+</title>\n",
       "<path fill=\"none\" stroke=\"black\" d=\"M581.61,-110.14C590.35,-108.77 598.69,-107.46 606.27,-106.28\"/>\n",
       "<polygon fill=\"black\" stroke=\"black\" points=\"606.63,-109.77 615.97,-104.76 605.55,-102.85 606.63,-109.77\"/>\n",
       "</g>\n",
       "<!-- 4798474080* -->\n",
       "<g id=\"node9\" class=\"node\">\n",
       "<title>4798474080*</title>\n",
       "<ellipse fill=\"none\" stroke=\"black\" cx=\"282\" cy=\"-128.5\" rx=\"27\" ry=\"18\"/>\n",
       "<text text-anchor=\"middle\" x=\"282\" y=\"-123.45\" font-family=\"Times,serif\" font-size=\"14.00\">*</text>\n",
       "</g>\n",
       "<!-- 4798474080*&#45;&gt;4798474080 -->\n",
       "<g id=\"edge3\" class=\"edge\">\n",
       "<title>4798474080*&#45;&gt;4798474080</title>\n",
       "<path fill=\"none\" stroke=\"black\" d=\"M309.43,-128.5C316.48,-128.5 324.59,-128.5 333.32,-128.5\"/>\n",
       "<polygon fill=\"black\" stroke=\"black\" points=\"333.16,-132 343.16,-128.5 333.16,-125 333.16,-132\"/>\n",
       "</g>\n",
       "<!-- 4799441264 -->\n",
       "<g id=\"node10\" class=\"node\">\n",
       "<title>4799441264</title>\n",
       "<polygon fill=\"none\" stroke=\"black\" points=\"1449.75,-109.5 1449.75,-145.5 1654.5,-145.5 1654.5,-109.5 1449.75,-109.5\"/>\n",
       "<text text-anchor=\"middle\" x=\"1461.12\" y=\"-122.7\" font-family=\"Times,serif\" font-size=\"14.00\">o</text>\n",
       "<polyline fill=\"none\" stroke=\"black\" points=\"1472.5,-110 1472.5,-145.5\"/>\n",
       "<text text-anchor=\"middle\" x=\"1514.25\" y=\"-122.7\" font-family=\"Times,serif\" font-size=\"14.00\">data: 0.7071</text>\n",
       "<polyline fill=\"none\" stroke=\"black\" points=\"1556,-110 1556,-145.5\"/>\n",
       "<text text-anchor=\"middle\" x=\"1605.25\" y=\"-122.7\" font-family=\"Times,serif\" font-size=\"14.00\">grad: 1.000000</text>\n",
       "</g>\n",
       "<!-- 4799441264tanh&#45;&gt;4799441264 -->\n",
       "<g id=\"edge4\" class=\"edge\">\n",
       "<title>4799441264tanh&#45;&gt;4799441264</title>\n",
       "<path fill=\"none\" stroke=\"black\" d=\"M1414,-127.5C1421.1,-127.5 1429.26,-127.5 1437.99,-127.5\"/>\n",
       "<polygon fill=\"black\" stroke=\"black\" points=\"1437.8,-131 1447.8,-127.5 1437.8,-124 1437.8,-131\"/>\n",
       "</g>\n",
       "<!-- 4798473552 -->\n",
       "<g id=\"node12\" class=\"node\">\n",
       "<title>4798473552</title>\n",
       "<polygon fill=\"none\" stroke=\"black\" points=\"0,-165.5 0,-201.5 219,-201.5 219,-165.5 0,-165.5\"/>\n",
       "<text text-anchor=\"middle\" x=\"16.25\" y=\"-178.7\" font-family=\"Times,serif\" font-size=\"14.00\">w1</text>\n",
       "<polyline fill=\"none\" stroke=\"black\" points=\"32.5,-166 32.5,-201.5\"/>\n",
       "<text text-anchor=\"middle\" x=\"76.5\" y=\"-178.7\" font-family=\"Times,serif\" font-size=\"14.00\">data: &#45;3.0000</text>\n",
       "<polyline fill=\"none\" stroke=\"black\" points=\"120.5,-166 120.5,-201.5\"/>\n",
       "<text text-anchor=\"middle\" x=\"169.75\" y=\"-178.7\" font-family=\"Times,serif\" font-size=\"14.00\">grad: 0.000000</text>\n",
       "</g>\n",
       "<!-- 4798473552&#45;&gt;4798474080* -->\n",
       "<g id=\"edge7\" class=\"edge\">\n",
       "<title>4798473552&#45;&gt;4798474080*</title>\n",
       "<path fill=\"none\" stroke=\"black\" d=\"M191.55,-165.04C200.88,-162.41 210.2,-159.55 219,-156.5 229.13,-152.98 239.88,-148.44 249.53,-144.04\"/>\n",
       "<polygon fill=\"black\" stroke=\"black\" points=\"250.93,-147.25 258.5,-139.83 247.96,-140.91 250.93,-147.25\"/>\n",
       "</g>\n",
       "<!-- 4798472592 -->\n",
       "<g id=\"node13\" class=\"node\">\n",
       "<title>4798472592</title>\n",
       "<polygon fill=\"none\" stroke=\"black\" points=\"3.75,-110.5 3.75,-146.5 215.25,-146.5 215.25,-110.5 3.75,-110.5\"/>\n",
       "<text text-anchor=\"middle\" x=\"18.5\" y=\"-123.7\" font-family=\"Times,serif\" font-size=\"14.00\">x1</text>\n",
       "<polyline fill=\"none\" stroke=\"black\" points=\"33.25,-111 33.25,-146.5\"/>\n",
       "<text text-anchor=\"middle\" x=\"75\" y=\"-123.7\" font-family=\"Times,serif\" font-size=\"14.00\">data: 2.0000</text>\n",
       "<polyline fill=\"none\" stroke=\"black\" points=\"116.75,-111 116.75,-146.5\"/>\n",
       "<text text-anchor=\"middle\" x=\"166\" y=\"-123.7\" font-family=\"Times,serif\" font-size=\"14.00\">grad: 0.000000</text>\n",
       "</g>\n",
       "<!-- 4798472592&#45;&gt;4798474080* -->\n",
       "<g id=\"edge12\" class=\"edge\">\n",
       "<title>4798472592&#45;&gt;4798474080*</title>\n",
       "<path fill=\"none\" stroke=\"black\" d=\"M215.57,-128.5C225.35,-128.5 234.76,-128.5 243.25,-128.5\"/>\n",
       "<polygon fill=\"black\" stroke=\"black\" points=\"243.07,-132 253.07,-128.5 243.07,-125 243.07,-132\"/>\n",
       "</g>\n",
       "<!-- 4799439296 -->\n",
       "<g id=\"node14\" class=\"node\">\n",
       "<title>4799439296</title>\n",
       "<polygon fill=\"none\" stroke=\"black\" points=\"707.25,-82.5 707.25,-118.5 993,-118.5 993,-82.5 707.25,-82.5\"/>\n",
       "<text text-anchor=\"middle\" x=\"756.88\" y=\"-95.7\" font-family=\"Times,serif\" font-size=\"14.00\">x1.w1 + x2.w2</text>\n",
       "<polyline fill=\"none\" stroke=\"black\" points=\"806.5,-83 806.5,-118.5\"/>\n",
       "<text text-anchor=\"middle\" x=\"850.5\" y=\"-95.7\" font-family=\"Times,serif\" font-size=\"14.00\">data: &#45;6.0000</text>\n",
       "<polyline fill=\"none\" stroke=\"black\" points=\"894.5,-83 894.5,-118.5\"/>\n",
       "<text text-anchor=\"middle\" x=\"943.75\" y=\"-95.7\" font-family=\"Times,serif\" font-size=\"14.00\">grad: 0.000000</text>\n",
       "</g>\n",
       "<!-- 4799439296&#45;&gt;4799441648+ -->\n",
       "<g id=\"edge8\" class=\"edge\">\n",
       "<title>4799439296&#45;&gt;4799441648+</title>\n",
       "<path fill=\"none\" stroke=\"black\" d=\"M990.77,-118.99C1000.42,-120.27 1009.55,-121.48 1017.73,-122.56\"/>\n",
       "<polygon fill=\"black\" stroke=\"black\" points=\"1017.12,-126.01 1027.49,-123.86 1018.04,-119.07 1017.12,-126.01\"/>\n",
       "</g>\n",
       "<!-- 4799439296+&#45;&gt;4799439296 -->\n",
       "<g id=\"edge5\" class=\"edge\">\n",
       "<title>4799439296+&#45;&gt;4799439296</title>\n",
       "<path fill=\"none\" stroke=\"black\" d=\"M671.49,-100.5C678.6,-100.5 686.83,-100.5 695.79,-100.5\"/>\n",
       "<polygon fill=\"black\" stroke=\"black\" points=\"695.52,-104 705.52,-100.5 695.52,-97 695.52,-104\"/>\n",
       "</g>\n",
       "</g>\n",
       "</svg>\n"
      ],
      "text/plain": [
       "<graphviz.graphs.Digraph at 0x11e0dbee0>"
      ]
     },
     "execution_count": 112,
     "metadata": {},
     "output_type": "execute_result"
    }
   ],
   "source": [
    "draw_dot(o)\n"
   ]
  },
  {
   "cell_type": "code",
   "execution_count": 109,
   "metadata": {},
   "outputs": [],
   "source": [
    "o.grad = 1.0"
   ]
  },
  {
   "cell_type": "code",
   "execution_count": 111,
   "metadata": {},
   "outputs": [],
   "source": [
    "n.grad = o.grad * (1 - o.data**2) # d/dn tanh(n) = 1 - tanh(n)^2S"
   ]
  },
  {
   "cell_type": "code",
   "execution_count": null,
   "metadata": {},
   "outputs": [],
   "source": []
  }
 ],
 "metadata": {
  "kernelspec": {
   "display_name": "torch",
   "language": "python",
   "name": "python3"
  },
  "language_info": {
   "codemirror_mode": {
    "name": "ipython",
    "version": 3
   },
   "file_extension": ".py",
   "mimetype": "text/x-python",
   "name": "python",
   "nbconvert_exporter": "python",
   "pygments_lexer": "ipython3",
   "version": "3.9.19"
  }
 },
 "nbformat": 4,
 "nbformat_minor": 2
}
