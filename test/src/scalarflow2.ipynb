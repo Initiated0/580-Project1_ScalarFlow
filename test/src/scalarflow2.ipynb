{
 "cells": [
  {
   "cell_type": "code",
   "execution_count": 1,
   "metadata": {},
   "outputs": [],
   "source": [
    "import scalarflow as sf\n"
   ]
  },
  {
   "cell_type": "code",
   "execution_count": 3,
   "metadata": {},
   "outputs": [
    {
     "name": "stdout",
     "output_type": "stream",
     "text": [
      "input: 15.0\n",
      "x:  15.0\n",
      "weight: 5.0\n",
      "y:  5.0\n",
      "Add_2\n",
      "res add:  20.0\n",
      "Subtract_1\n",
      "res neg:  10.0\n",
      "Multiply_1\n",
      "res add:  75.0\n",
      "Divide_1\n",
      "res add:  3.0\n"
     ]
    }
   ],
   "source": [
    "with sf.Graph() as g:\n",
    "\n",
    "    x = sf.Constant(15.0, name='input')\n",
    "    y = sf.Constant(5.0, name='weight')\n",
    "    print(x)\n",
    "    print('x: ', x._value)\n",
    "    print(y)\n",
    "    print('y: ', y._value)\n",
    "\n",
    "    # print(x._value + y._value)\n",
    "    res = sf.Add(x, y)\n",
    "    print(res)\n",
    "    print('res add: ', res._value)  \n",
    "\n",
    "    res = sf.Subtract(x, y)\n",
    "    print(res)\n",
    "    print('res neg: ', res._value) \n",
    "\n",
    "    res = sf.Multiply(x, y)\n",
    "    print(res)\n",
    "    print('res add: ', res._value)  \n",
    "\n",
    "    res = sf.Divide(x, y)\n",
    "    print(res)\n",
    "    print('res add: ', res._value)\n",
    "\n",
    "    a = sf.Pow(x, y)\n",
    "    print(a)\n",
    "    print('a pow: ', a._value)  \n",
    "\n",
    "    \n"
   ]
  },
  {
   "cell_type": "code",
   "execution_count": null,
   "metadata": {},
   "outputs": [],
   "source": []
  },
  {
   "cell_type": "code",
   "execution_count": null,
   "metadata": {},
   "outputs": [],
   "source": []
  }
 ],
 "metadata": {
  "kernelspec": {
   "display_name": "torch",
   "language": "python",
   "name": "python3"
  },
  "language_info": {
   "codemirror_mode": {
    "name": "ipython",
    "version": 3
   },
   "file_extension": ".py",
   "mimetype": "text/x-python",
   "name": "python",
   "nbconvert_exporter": "python",
   "pygments_lexer": "ipython3",
   "version": "3.9.19"
  }
 },
 "nbformat": 4,
 "nbformat_minor": 2
}
