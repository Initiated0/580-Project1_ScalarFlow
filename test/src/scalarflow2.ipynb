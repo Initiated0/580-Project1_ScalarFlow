{
 "cells": [
  {
   "cell_type": "code",
   "execution_count": 1,
   "metadata": {},
   "outputs": [],
   "source": [
    "import scalarflow as sf\n"
   ]
  },
  {
   "cell_type": "code",
   "execution_count": 2,
   "metadata": {},
   "outputs": [
    {
     "name": "stdout",
     "output_type": "stream",
     "text": [
      "input: 15.0\n",
      "x:  15.0\n",
      "weight: 5.0\n",
      "y:  5.0\n",
      "Add_0\n",
      "res add:  20.0\n",
      "Subtract_0\n",
      "res neg:  10.0\n",
      "Multiply_0\n",
      "res add:  75.0\n",
      "Divide_0\n",
      "res add:  3.0\n",
      "Pow_0\n",
      "a pow:  759375.0\n"
     ]
    }
   ],
   "source": [
    "with sf.Graph() as g:\n",
    "\n",
    "    x = sf.Constant(15.0, name='input')\n",
    "    y = sf.Constant(5.0, name='weight')\n",
    "    print(x)\n",
    "    print('x: ', x._value)\n",
    "    print(y)\n",
    "    print('y: ', y._value)\n",
    "\n",
    "    # print(x._value + y._value)\n",
    "    res = sf.Add(x, y)\n",
    "    print(res)\n",
    "    print('res add: ', res._value)  \n",
    "\n",
    "    res = sf.Subtract(x, y)\n",
    "    print(res)\n",
    "    print('res neg: ', res._value) \n",
    "\n",
    "    res = sf.Multiply(x, y)\n",
    "    print(res)\n",
    "    print('res add: ', res._value)  \n",
    "\n",
    "    res = sf.Divide(x, y)\n",
    "    print(res)\n",
    "    print('res add: ', res._value)\n",
    "\n",
    "    a = sf.Pow(x, y)\n",
    "    print(a)\n",
    "    print('a pow: ', a._value)  \n",
    "\n",
    "    \n"
   ]
  },
  {
   "cell_type": "code",
   "execution_count": 2,
   "metadata": {},
   "outputs": [
    {
     "name": "stdout",
     "output_type": "stream",
     "text": [
      "input: 15.0\n",
      "x:  15.0\n",
      "weight: 5.0\n",
      "y:  5.0\n",
      "Add_0\n"
     ]
    },
    {
     "ename": "AttributeError",
     "evalue": "'Add' object has no attribute '_value'",
     "output_type": "error",
     "traceback": [
      "\u001b[0;31m---------------------------------------------------------------------------\u001b[0m",
      "\u001b[0;31mAttributeError\u001b[0m                            Traceback (most recent call last)",
      "\u001b[1;32m/Users/nayeemmohammad/Documents/GitHub/580-Project1_ScalarFlow/test/src/scalarflow2.ipynb Cell 3\u001b[0m line \u001b[0;36m1\n\u001b[1;32m     <a href='vscode-notebook-cell:/Users/nayeemmohammad/Documents/GitHub/580-Project1_ScalarFlow/test/src/scalarflow2.ipynb#W6sZmlsZQ%3D%3D?line=10'>11</a>\u001b[0m res \u001b[39m=\u001b[39m sf\u001b[39m.\u001b[39mAdd(x, y)\n\u001b[1;32m     <a href='vscode-notebook-cell:/Users/nayeemmohammad/Documents/GitHub/580-Project1_ScalarFlow/test/src/scalarflow2.ipynb#W6sZmlsZQ%3D%3D?line=11'>12</a>\u001b[0m \u001b[39mprint\u001b[39m(res)\n\u001b[0;32m---> <a href='vscode-notebook-cell:/Users/nayeemmohammad/Documents/GitHub/580-Project1_ScalarFlow/test/src/scalarflow2.ipynb#W6sZmlsZQ%3D%3D?line=12'>13</a>\u001b[0m \u001b[39mprint\u001b[39m(\u001b[39m'\u001b[39m\u001b[39mres add: \u001b[39m\u001b[39m'\u001b[39m, res\u001b[39m.\u001b[39;49m_value)  \n\u001b[1;32m     <a href='vscode-notebook-cell:/Users/nayeemmohammad/Documents/GitHub/580-Project1_ScalarFlow/test/src/scalarflow2.ipynb#W6sZmlsZQ%3D%3D?line=14'>15</a>\u001b[0m res \u001b[39m=\u001b[39m sf\u001b[39m.\u001b[39mSubtract(x, y)\n\u001b[1;32m     <a href='vscode-notebook-cell:/Users/nayeemmohammad/Documents/GitHub/580-Project1_ScalarFlow/test/src/scalarflow2.ipynb#W6sZmlsZQ%3D%3D?line=15'>16</a>\u001b[0m \u001b[39mprint\u001b[39m(res)\n",
      "\u001b[0;31mAttributeError\u001b[0m: 'Add' object has no attribute '_value'"
     ]
    }
   ],
   "source": [
    "with sf.Graph() as g:\n",
    "\n",
    "    x = sf.Constant(15.0, name='input')\n",
    "    y = sf.Constant(5.0, name='weight')\n",
    "    print(x)\n",
    "    print('x: ', x._value)\n",
    "    print(y)\n",
    "    print('y: ', y._value)\n",
    "\n",
    "    # print(x._value + y._value)\n",
    "    res = sf.Add(x, y)\n",
    "    print(res)\n",
    "    print('res add: ', res._value)  \n",
    "\n",
    "    res = sf.Subtract(x, y)\n",
    "    print(res)\n",
    "    print('res neg: ', res._value) \n",
    "\n",
    "    res = sf.Multiply(x, y)\n",
    "    print(res)\n",
    "    print('res add: ', res._value)  \n",
    "\n",
    "    res = sf.Divide(x, y)\n",
    "    print(res)\n",
    "    print('res add: ', res._value)\n",
    "\n",
    "    a = sf.Pow(x, y)\n",
    "    print(a)\n",
    "    print('a pow: ', a._value)  "
   ]
  },
  {
   "cell_type": "code",
   "execution_count": 1,
   "metadata": {},
   "outputs": [
    {
     "name": "stdout",
     "output_type": "stream",
     "text": [
      "Result of addition: 10.0\n"
     ]
    }
   ],
   "source": [
    "import scalarflow as sf\n",
    "\n",
    "# Create a computation graph\n",
    "with sf.Graph() as g:\n",
    "    # Create two constants\n",
    "    a = sf.Constant(7.0, name=\"axon\")\n",
    "    b = sf.Constant(3.0, name=\"bxon\")\n",
    "\n",
    "    # Add the constants\n",
    "    sum_node = sf.Add(a, b, name=\"sum\")\n",
    "\n",
    "    # Run the graph and print the result\n",
    "    result = g.run(sum_node)\n",
    "    print(f\"Result of addition: {result}\")  # Should print 10.0\n"
   ]
  },
  {
   "cell_type": "code",
   "execution_count": 5,
   "metadata": {},
   "outputs": [
    {
     "name": "stdout",
     "output_type": "stream",
     "text": [
      "input: 15.0\n",
      "x:  15.0\n",
      "weight: 5.0\n",
      "y:  5.0\n",
      "Add_3\n",
      "res add:  None\n",
      "Subtract_3\n",
      "res neg:  None\n",
      "Multiply_3\n",
      "res add:  None\n",
      "Divide_3\n",
      "res add:  None\n",
      "Pow_3\n",
      "a pow:  None\n"
     ]
    }
   ],
   "source": [
    "with sf.Graph() as g:\n",
    "\n",
    "    x = sf.Constant(15.0, name='input')\n",
    "    y = sf.Constant(5.0, name='weight')\n",
    "    print(x)\n",
    "    print('x: ', x._value)\n",
    "    print(y)\n",
    "    print('y: ', y._value)\n",
    "\n",
    "    # print(x._value + y._value)\n",
    "    res = sf.Add(x, y)\n",
    "    print(res)\n",
    "    print('res add: ', res._value)  \n",
    "\n",
    "    res = sf.Subtract(x, y)\n",
    "    print(res)\n",
    "    print('res neg: ', res._value) \n",
    "\n",
    "    res = sf.Multiply(x, y)\n",
    "    print(res)\n",
    "    print('res add: ', res._value)  \n",
    "\n",
    "    res = sf.Divide(x, y)\n",
    "    print(res)\n",
    "    print('res add: ', res._value)\n",
    "\n",
    "    a = sf.Pow(x, y)\n",
    "    print(a)\n",
    "    print('a pow: ', a._value)  "
   ]
  },
  {
   "cell_type": "code",
   "execution_count": 1,
   "metadata": {},
   "outputs": [
    {
     "name": "stdout",
     "output_type": "stream",
     "text": [
      "Result of addition: 26.0\n",
      "Result of subtraction: 32.0\n",
      "Result of multiplication: -87.0\n",
      "Result of division: -9.666666666666666\n",
      "Result of power: 4.1002091106646436e-05\n",
      "Result of absolute value: 3.0\n"
     ]
    }
   ],
   "source": [
    "# example1.py\n",
    "import scalarflow as sf\n",
    "\n",
    "# Create a computation graph\n",
    "with sf.Graph() as g:\n",
    "    # Create two constants\n",
    "    a = sf.Constant(29.0, name=\"axon\")\n",
    "    b = sf.Constant(-3.0, name=\"bxon\")\n",
    "    \n",
    "    # Add the constants\n",
    "    sum_node = sf.Add(a, b, name=\"sum\")\n",
    "\n",
    "    # Run the graph and print the result\n",
    "    result = g.run(sum_node)\n",
    "    print(f\"Result of addition: {result}\")  # Should print 10.0\n",
    "\n",
    "    sub_node = sf.Subtract(a, b, name=\"sub\")\n",
    "    result = g.run(sub_node)\n",
    "    print(f\"Result of subtraction: {result}\")  # Should print 4.0\n",
    "\n",
    "    mul_node = sf.Multiply(a, b, name=\"mul\")\n",
    "    result = g.run(mul_node)\n",
    "    print(f\"Result of multiplication: {result}\")  # Should print 21.0\n",
    "\n",
    "    div_node = sf.Divide(a, b, name=\"div\")\n",
    "    result = g.run(div_node)\n",
    "    print(f\"Result of division: {result}\")  # Should print 2.3333333333333335\n",
    "\n",
    "    pow_node = sf.Pow(a, b, name=\"pow\")\n",
    "    result = g.run(pow_node)\n",
    "    print(f\"Result of power: {result}\")  # Should print 343.0\n",
    "\n",
    "    abs_node = sf.Abs(b, name=\"abs\")\n",
    "    result = g.run(abs_node)\n",
    "    print(f\"Result of absolute value: {result}\")  # Should print 7.0\n",
    "\n",
    "\n"
   ]
  },
  {
   "cell_type": "code",
   "execution_count": 7,
   "metadata": {},
   "outputs": [
    {
     "name": "stdout",
     "output_type": "stream",
     "text": [
      "13.0\n",
      "1.0\n",
      "2.0\n",
      "5.0\n",
      "1.0\n"
     ]
    }
   ],
   "source": [
    "import scalarflow as sf\n",
    "\n",
    "# Create a computation graph\n",
    "with sf.Graph() as g:\n",
    "\n",
    "    # y = mx + b\n",
    "    # z = 2y + 3b\n",
    "    x = sf.Constant(5.0, name='x')\n",
    "\n",
    "    m = sf.Constant(2.0, name='m')\n",
    "\n",
    "    b = sf.Constant(3.0, name='b')\n",
    "\n",
    "    y = sf.Multiply(m, x, name='mx')\n",
    "\n",
    "    y = sf.Add(y, b, name='y')\n",
    "\n",
    "    res = g.run(y, compute_derivatives=True)\n",
    "\n",
    "    print(res)\n",
    "    print(y._derivative)\n",
    "    print(x._derivative)\n",
    "    print(m._derivative)\n",
    "    print(b._derivative)\n",
    "\n",
    "\n"
   ]
  },
  {
   "cell_type": "code",
   "execution_count": null,
   "metadata": {},
   "outputs": [],
   "source": []
  }
 ],
 "metadata": {
  "kernelspec": {
   "display_name": "torch",
   "language": "python",
   "name": "python3"
  },
  "language_info": {
   "codemirror_mode": {
    "name": "ipython",
    "version": 3
   },
   "file_extension": ".py",
   "mimetype": "text/x-python",
   "name": "python",
   "nbconvert_exporter": "python",
   "pygments_lexer": "ipython3",
   "version": "3.9.19"
  }
 },
 "nbformat": 4,
 "nbformat_minor": 2
}
